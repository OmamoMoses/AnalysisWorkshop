{
  "nbformat": 4,
  "nbformat_minor": 0,
  "metadata": {
    "colab": {
      "provenance": [],
      "authorship_tag": "ABX9TyMk+qtCgGpYNWRTvjPp68jt",
      "include_colab_link": true
    },
    "kernelspec": {
      "name": "python3",
      "display_name": "Python 3"
    },
    "language_info": {
      "name": "python"
    }
  },
  "cells": [
    {
      "cell_type": "markdown",
      "metadata": {
        "id": "view-in-github",
        "colab_type": "text"
      },
      "source": [
        "<a href=\"https://colab.research.google.com/github/OmamoMoses/AnalysisWorkshop/blob/main/CatAPI_exercise.ipynb\" target=\"_parent\"><img src=\"https://colab.research.google.com/assets/colab-badge.svg\" alt=\"Open In Colab\"/></a>"
      ]
    },
    {
      "cell_type": "markdown",
      "source": [
        "### 2. Cat Ninjas API\n",
        "\n",
        "Link to the API:\n",
        "\n",
        "https://catfact.ninja"
      ],
      "metadata": {
        "id": "9DtLuwbt8GRJ"
      }
    },
    {
      "cell_type": "code",
      "execution_count": 3,
      "metadata": {
        "id": "u0h6M_enyBuB"
      },
      "outputs": [],
      "source": [
        "# import libraries\n",
        "import requests\n",
        "import pandas as pd\n",
        "import pprint"
      ]
    },
    {
      "cell_type": "code",
      "source": [
        "## 2. CAT NINJAS API"
      ],
      "metadata": {
        "id": "CGJGznhM6mUP"
      },
      "execution_count": null,
      "outputs": []
    },
    {
      "cell_type": "code",
      "source": [
        "# Exercise - using the best practices mentioned in this notebook, extract the breeds of cat API\n",
        "# https://catfact.ninja"
      ],
      "metadata": {
        "id": "e0H7NxAJ6z1n"
      },
      "execution_count": null,
      "outputs": []
    },
    {
      "cell_type": "code",
      "source": [
        "# Extract a random cat fact from the api using the same function you wrote"
      ],
      "metadata": {
        "id": "ZiEQ2MWr9fOV"
      },
      "execution_count": null,
      "outputs": []
    },
    {
      "cell_type": "code",
      "source": [
        "# making first API call\n",
        "breeds = requests.get(\"https://catfact.ninja/breeds\")\n",
        "breeds"
      ],
      "metadata": {
        "colab": {
          "base_uri": "https://localhost:8080/"
        },
        "id": "5L6-jAyY0Ref",
        "outputId": "834caf0a-77f3-40ca-9e88-fbba66226aee"
      },
      "execution_count": 4,
      "outputs": [
        {
          "output_type": "execute_result",
          "data": {
            "text/plain": [
              "<Response [200]>"
            ]
          },
          "metadata": {},
          "execution_count": 4
        }
      ]
    },
    {
      "cell_type": "code",
      "source": [
        "# modularizing our code\n",
        "def extract_api_basic(uri):\n",
        "  \"\"\"Description:\n",
        "      Ingest data from API endpoint\n",
        "    Parameters:\n",
        "      uri : URL of API endpoint where we are ingesting data from\n",
        "    Returns:\n",
        "      JSON data\n",
        "      \"\"\"\n",
        "  res = requests.get(uri)\n",
        "  data = res.json()\n",
        "\n",
        "  return data\n",
        "\n",
        "catbreed_data_json=extract_api_basic(\"https://catfact.ninja/breeds\")"
      ],
      "metadata": {
        "id": "u1LuVDLms_Fy",
        "collapsed": true
      },
      "execution_count": 9,
      "outputs": []
    },
    {
      "cell_type": "code",
      "source": [
        "pprint.pprint(catbreed_data_json)"
      ],
      "metadata": {
        "colab": {
          "base_uri": "https://localhost:8080/"
        },
        "id": "_MD8NUrsr_Mm",
        "outputId": "da2ab269-d647-4b7c-e9e5-56c3c83cd6fc"
      },
      "execution_count": 10,
      "outputs": [
        {
          "output_type": "stream",
          "name": "stdout",
          "text": [
            "{'current_page': 1,\n",
            " 'data': [{'breed': 'Abyssinian',\n",
            "           'coat': 'Short',\n",
            "           'country': 'Ethiopia',\n",
            "           'origin': 'Natural/Standard',\n",
            "           'pattern': 'Ticked'},\n",
            "          {'breed': 'Aegean',\n",
            "           'coat': 'Semi-long',\n",
            "           'country': 'Greece',\n",
            "           'origin': 'Natural/Standard',\n",
            "           'pattern': 'Bi- or tri-colored'},\n",
            "          {'breed': 'American Curl',\n",
            "           'coat': 'Short/Long',\n",
            "           'country': 'United States',\n",
            "           'origin': 'Mutation',\n",
            "           'pattern': 'All'},\n",
            "          {'breed': 'American Bobtail',\n",
            "           'coat': 'Short/Long',\n",
            "           'country': 'United States',\n",
            "           'origin': 'Mutation',\n",
            "           'pattern': 'All'},\n",
            "          {'breed': 'American Shorthair',\n",
            "           'coat': 'Short',\n",
            "           'country': 'United States',\n",
            "           'origin': 'Natural',\n",
            "           'pattern': 'All but colorpoint'},\n",
            "          {'breed': 'American Wirehair',\n",
            "           'coat': 'Rex',\n",
            "           'country': 'United States',\n",
            "           'origin': 'Mutation',\n",
            "           'pattern': 'All but colorpoint'},\n",
            "          {'breed': 'Arabian Mau',\n",
            "           'coat': 'Short',\n",
            "           'country': 'Arabian Peninsula',\n",
            "           'origin': 'Natural',\n",
            "           'pattern': ''},\n",
            "          {'breed': 'Australian Mist',\n",
            "           'coat': 'Short',\n",
            "           'country': 'Australia',\n",
            "           'origin': 'Crossbreed',\n",
            "           'pattern': 'Spotted and Classic tabby'},\n",
            "          {'breed': 'Asian',\n",
            "           'coat': 'Short',\n",
            "           'country': 'developed in the United Kingdom (founding stock from '\n",
            "                      'Asia)',\n",
            "           'origin': '',\n",
            "           'pattern': 'Evenly solid'},\n",
            "          {'breed': 'Asian Semi-longhair',\n",
            "           'coat': 'Semi-long',\n",
            "           'country': 'United Kingdom',\n",
            "           'origin': 'Crossbreed',\n",
            "           'pattern': 'Solid'},\n",
            "          {'breed': 'Balinese',\n",
            "           'coat': 'Long',\n",
            "           'country': 'developed in the United States (founding stock from '\n",
            "                      'Thailand)',\n",
            "           'origin': 'Crossbreed',\n",
            "           'pattern': 'Colorpoint'},\n",
            "          {'breed': 'Bambino',\n",
            "           'coat': 'Hairless/Furry down',\n",
            "           'country': 'United States',\n",
            "           'origin': 'Crossbreed',\n",
            "           'pattern': ''},\n",
            "          {'breed': 'Bengal',\n",
            "           'coat': 'Short',\n",
            "           'country': 'developed in the United States (founding stock from '\n",
            "                      'Asia)',\n",
            "           'origin': 'Hybrid',\n",
            "           'pattern': 'Spotted/Marbled'},\n",
            "          {'breed': 'Birman',\n",
            "           'coat': 'Semi Long',\n",
            "           'country': 'developed in France (founding stock from Burma)',\n",
            "           'origin': 'Natural',\n",
            "           'pattern': 'Colorpoint'},\n",
            "          {'breed': 'Bombay',\n",
            "           'coat': 'Short',\n",
            "           'country': 'developed in the United States (founding stock from '\n",
            "                      'Asia)',\n",
            "           'origin': 'Crossbred',\n",
            "           'pattern': 'Solid'},\n",
            "          {'breed': 'Brazilian Shorthair',\n",
            "           'coat': 'Short',\n",
            "           'country': 'Brazil',\n",
            "           'origin': 'Natural',\n",
            "           'pattern': 'All'},\n",
            "          {'breed': 'British Semi-longhair',\n",
            "           'coat': 'Medium',\n",
            "           'country': 'United Kingdom',\n",
            "           'origin': '',\n",
            "           'pattern': 'All'},\n",
            "          {'breed': 'British Shorthair',\n",
            "           'coat': 'Short',\n",
            "           'country': 'United Kingdom',\n",
            "           'origin': 'Natural',\n",
            "           'pattern': 'All'},\n",
            "          {'breed': 'British Longhair',\n",
            "           'coat': 'Long',\n",
            "           'country': 'United Kingdom',\n",
            "           'origin': '',\n",
            "           'pattern': ''},\n",
            "          {'breed': 'Burmese',\n",
            "           'coat': 'Short',\n",
            "           'country': 'Burma and Thailand',\n",
            "           'origin': 'Natural',\n",
            "           'pattern': 'Solid'},\n",
            "          {'breed': 'Burmilla',\n",
            "           'coat': 'Short/Long',\n",
            "           'country': 'United Kingdom',\n",
            "           'origin': 'Crossbreed',\n",
            "           'pattern': ''},\n",
            "          {'breed': 'California Spangled',\n",
            "           'coat': 'Short',\n",
            "           'country': 'United States',\n",
            "           'origin': 'Crossbreed',\n",
            "           'pattern': 'Spotted'},\n",
            "          {'breed': 'Chantilly-Tiffany',\n",
            "           'coat': '',\n",
            "           'country': 'United States',\n",
            "           'origin': '',\n",
            "           'pattern': ''},\n",
            "          {'breed': 'Chartreux',\n",
            "           'coat': 'Short',\n",
            "           'country': 'France',\n",
            "           'origin': 'Natural',\n",
            "           'pattern': 'Solid'},\n",
            "          {'breed': 'Chausie',\n",
            "           'coat': 'Short',\n",
            "           'country': 'France',\n",
            "           'origin': 'Hybrid',\n",
            "           'pattern': 'Ticked'}],\n",
            " 'first_page_url': 'https://catfact.ninja/breeds?page=1',\n",
            " 'from': 1,\n",
            " 'last_page': 4,\n",
            " 'last_page_url': 'https://catfact.ninja/breeds?page=4',\n",
            " 'links': [{'active': False, 'label': 'Previous', 'url': None},\n",
            "           {'active': True,\n",
            "            'label': '1',\n",
            "            'url': 'https://catfact.ninja/breeds?page=1'},\n",
            "           {'active': False,\n",
            "            'label': '2',\n",
            "            'url': 'https://catfact.ninja/breeds?page=2'},\n",
            "           {'active': False,\n",
            "            'label': '3',\n",
            "            'url': 'https://catfact.ninja/breeds?page=3'},\n",
            "           {'active': False,\n",
            "            'label': '4',\n",
            "            'url': 'https://catfact.ninja/breeds?page=4'},\n",
            "           {'active': False,\n",
            "            'label': 'Next',\n",
            "            'url': 'https://catfact.ninja/breeds?page=2'}],\n",
            " 'next_page_url': 'https://catfact.ninja/breeds?page=2',\n",
            " 'path': 'https://catfact.ninja/breeds',\n",
            " 'per_page': 25,\n",
            " 'prev_page_url': None,\n",
            " 'to': 25,\n",
            " 'total': 98}\n"
          ]
        }
      ]
    }
  ]
}